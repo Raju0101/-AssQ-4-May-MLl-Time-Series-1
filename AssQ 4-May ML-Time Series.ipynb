{
 "cells": [
  {
   "cell_type": "markdown",
   "id": "ca1ed0f4-f4c9-454c-967f-8ab9983aecb9",
   "metadata": {},
   "source": [
    "# AssQ 4-May ML-Time Series"
   ]
  },
  {
   "cell_type": "code",
   "execution_count": null,
   "id": "1478538a-18ae-4221-acc2-3f36305ab8d2",
   "metadata": {},
   "outputs": [],
   "source": [
    "Q1. What is a time series, and what are some common applications of time series analysis?"
   ]
  },
  {
   "cell_type": "code",
   "execution_count": null,
   "id": "9dd49920-ba88-48a7-ba83-b4e8bfdefb1e",
   "metadata": {},
   "outputs": [],
   "source": [
    "Time series analysis is used for non-stationary data—things that are constantly fluctuating over \n",
    "time or are affected by time. Industries like finance, retail, \n",
    "and economics frequently use time series analysis because currency and sales are always changing.\n",
    "\n",
    "A time series is a collection of observations of well-defined data items obtained through repeated measurements over time. \n",
    "For example, measuring the value of retail sales each month of the year would comprise a time series.\n",
    "\n",
    "A time series is a group of observations on a single entity over time — e.g.\n",
    "the daily closing prices over one year for a single financial security, \n",
    "or a single patient's heart rate measured every minute over a one-hour procedure."
   ]
  },
  {
   "cell_type": "code",
   "execution_count": null,
   "id": "d39a0ee4-2af4-4c2a-8bd3-244c55a924f9",
   "metadata": {},
   "outputs": [],
   "source": []
  },
  {
   "cell_type": "code",
   "execution_count": null,
   "id": "22000fb7-3897-4b70-b68e-7cc81f89e04b",
   "metadata": {},
   "outputs": [],
   "source": [
    "Q2. What are some common time series patterns, and how can they be identified and interpreted?"
   ]
  },
  {
   "cell_type": "code",
   "execution_count": null,
   "id": "7469b6e3-1e73-420e-9bbf-bf9708ae2a13",
   "metadata": {},
   "outputs": [],
   "source": [
    "There are three types of time series patterns: trend, seasonal, and cyclic.\n",
    "\n",
    "Many methods that recognize patterns in time series do so by first transforming the time series\n",
    "to a more common type of data. Then a classical machine learning algorithm is used to detect and classify the pattern. \n",
    "Visual pattern recognition achieves this by first transforming the data into a picture.\n",
    "\n",
    "Steps to Interpreting a Time Series Plot\n",
    "Step 1: Determine the minimum and maximum of the plot.\n",
    "Step 2: Determine if the data is consistent over time or changing from time period to time period.\n",
    "Step 3: Summarize the information, to include minimum, maximum, trends, and outliers.\n",
    "\n",
    "What is time series analysis? Time series analysis is a specific way of analyzing a sequence \n",
    "of data points collected over an interval of time. In time series analysis,\n",
    "analysts record data points at consistent intervals over \n",
    "a set period of time rather than just recording the data points intermittently or randomly."
   ]
  },
  {
   "cell_type": "code",
   "execution_count": null,
   "id": "fa34b7fb-a3d8-4a0f-9764-d784f60078ae",
   "metadata": {},
   "outputs": [],
   "source": []
  },
  {
   "cell_type": "code",
   "execution_count": null,
   "id": "a476c0a6-24f3-4d9b-8c93-d1ad79eb6178",
   "metadata": {},
   "outputs": [],
   "source": [
    "Q3. How can time series data be preprocessed before applying analysis techniques?"
   ]
  },
  {
   "cell_type": "code",
   "execution_count": null,
   "id": "fb29e058-44f4-46e4-a561-61e5fbea0f00",
   "metadata": {},
   "outputs": [],
   "source": [
    "Preprocessing steps for time series data. Structuring time-series data,\n",
    "finding the missing values, denoising the features,\n",
    "and finding the outliers present in the dataset.\n",
    "\n",
    "The most common approach to time series clustering is to flatten the time series into a table,\n",
    "with a column for each time index (or aggregation of the series)\n",
    "and directly apply standard clustering algorithms like k-means.\n",
    "\n",
    "Important Data Preprocessing Techniques\n",
    "Data Cleaning.\n",
    "Dimensionality Reduction.\n",
    "Feature Engineering.\n",
    "Sampling Data.\n",
    "Data Transformation.\n",
    "Imbalanced Data.\n",
    "\n",
    "In summary, we have done a few things to convert our data into a time series object:\n",
    "converted the Month column from strings to datetime;\n",
    "set the transformed datetime column as the index;\n",
    "extracted year, month and weekday from the index and stored in new columns."
   ]
  },
  {
   "cell_type": "code",
   "execution_count": null,
   "id": "b255f059-5b29-428f-b250-1174ebe0d08d",
   "metadata": {},
   "outputs": [],
   "source": []
  },
  {
   "cell_type": "code",
   "execution_count": null,
   "id": "3c54e363-d23e-41c5-9c59-1712040eac70",
   "metadata": {},
   "outputs": [],
   "source": [
    "Q4. How can time series forecasting be used in business decision-making, and what are some common \n",
    "challenges and limitations?"
   ]
  },
  {
   "cell_type": "code",
   "execution_count": null,
   "id": "0ca9c26c-c003-4ec5-a0dd-5d2a7a7b67e7",
   "metadata": {},
   "outputs": [],
   "source": [
    "Time series analysis forecasting is a statistical technique that helps businesses\n",
    "make predictions about future events by analyzing data from the past.\n",
    "Companies use time series analysis forecasting\n",
    "to predict what will happen in the next few months to the next few years.\n",
    "\n",
    "Time series analysis helps organizations understand the underlying causes of trends \n",
    "or systemic patterns over time. Using data visualizations, business users can see \n",
    "seasonal trends and dig deeper into why these trends occur. \n",
    "With modern analytics platforms, these visualizations can go far beyond line graphs.\n",
    "\n",
    "It can suffer from generalization from a single study where more data points and models were warranted.\n",
    "Human error could misidentify the correct data model, which can have a snowballing effect on the output.\n",
    "It could also be difficult to obtain the appropriate data points.\n",
    "\n",
    "The central point that differentiates time-series problems from most other statistical\n",
    "problems is that in a time series, observations are not mutually independent.\n",
    "Rather a single chance event may affect all later data points. \n",
    "This makes time-series analysis quite different from most other areas of statistics."
   ]
  },
  {
   "cell_type": "code",
   "execution_count": null,
   "id": "e71a57e2-e912-416a-bf88-d9210f38afa0",
   "metadata": {},
   "outputs": [],
   "source": []
  },
  {
   "cell_type": "code",
   "execution_count": null,
   "id": "f53404da-91c9-4573-99dc-fb0357bfe963",
   "metadata": {},
   "outputs": [],
   "source": [
    "Q5. What is ARIMA modelling, and how can it be used to forecast time series data?"
   ]
  },
  {
   "cell_type": "code",
   "execution_count": null,
   "id": "70aa2100-d263-4dfe-ad8d-54e8cd5467a7",
   "metadata": {},
   "outputs": [],
   "source": [
    "ARIMA is a form of regression analysis that indicates the strength of a dependent variable\n",
    "relative to other changing variables.\n",
    "The final objective of the model is to predict future time series movement \n",
    "by examining the differences between values in the series instead of through actual values.\n",
    "\n",
    "ARIMA is a method for forecasting or predicting future outcomes based on a historical time series. \n",
    "It is based on the statistical concept of serial correlation,\n",
    "where past data points influence future data points.\n",
    "\n",
    "ARIMA is an acronym for “autoregressive integrated moving average.”\n",
    "It's a model used in statistics and econometrics to measure events that happen over a period of time.\n",
    "\n",
    "ARIMA models are a popular and powerful tool for forecasting time series data,\n",
    "such as sales, prices, or weather. ARIMA stands for AutoRegressive Integrated Moving Average,\n",
    "and it captures the patterns, trends,\n",
    "and seasonality of the data using a combination of past values, differences, and errors."
   ]
  },
  {
   "cell_type": "code",
   "execution_count": null,
   "id": "63d1312d-f999-4f1e-b0da-4b9c9e2cd580",
   "metadata": {},
   "outputs": [],
   "source": []
  },
  {
   "cell_type": "code",
   "execution_count": null,
   "id": "ae5dac84-45ed-4c2b-9c9d-2b7397d84343",
   "metadata": {},
   "outputs": [],
   "source": [
    "Q6. How do Autocorrelation Function (ACF) and Partial Autocorrelation Function (PACF) plots help in \n",
    "identifying the order of ARIMA models?"
   ]
  },
  {
   "cell_type": "code",
   "execution_count": null,
   "id": "e8638c99-2b94-4c2e-bef2-d7d9122085fc",
   "metadata": {},
   "outputs": [],
   "source": [
    "The basic guideline for interpreting the ACF and PACF plots are as following:\n",
    "Look for tail off pattern in either ACF or PACF.\n",
    "If tail off at ACF → AR model → Cut off at PACF will provide order p for AR(p).\n",
    "If tail off at PACF → MA model → Cut off at ACF will provide order q for MA(q).\n",
    "\n",
    "An AR signature corresponds to a PACF plot displaying a sharp cut-off and a more \n",
    "slowly decaying ACF; An MA signature corresponds to an\n",
    "ACF plot displaying a sharp cut-off and a PACF plot that decays more slowly.\n",
    "\n",
    "Autocorrelation Function (ACF) and Partial Autocorrelation Function (PACF) \n",
    "The ACF and PACF are used to figure out the order of AR, MA, and ARMA models. \n",
    "Autocorrelation is the correlation between a time series with a lagged version of itself."
   ]
  },
  {
   "cell_type": "code",
   "execution_count": null,
   "id": "454c7462-4493-4d9d-8e3c-4bfb2d0023b7",
   "metadata": {},
   "outputs": [],
   "source": []
  },
  {
   "cell_type": "code",
   "execution_count": null,
   "id": "3cd34dae-f797-4cd6-b7f8-d664e4119fcd",
   "metadata": {},
   "outputs": [],
   "source": [
    "Q7. What are the assumptions of ARIMA models, and how can they be tested for in practice?"
   ]
  },
  {
   "cell_type": "code",
   "execution_count": null,
   "id": "549e6d1b-c6db-4691-a099-ae2352a9ec35",
   "metadata": {},
   "outputs": [],
   "source": [
    "The autoregressive-moving average (ARMA) class of models relies on the \n",
    "assumption that the underlying process is weakly stationary, \n",
    "which restricts the mean and variance to be constant and requires \n",
    "the autocovariances to depend only on the time lag.\n",
    "\n",
    "Osborn, Chui, Smith, and Birchenhall (OCSB) test is used to determine \n",
    "if the data needs seasonal differencing (D component of P,D,Q,m)."
   ]
  },
  {
   "cell_type": "code",
   "execution_count": null,
   "id": "936f874d-35d0-4761-9410-1a14569f9fcb",
   "metadata": {},
   "outputs": [],
   "source": []
  },
  {
   "cell_type": "code",
   "execution_count": null,
   "id": "a327f34c-6582-4f94-9345-fe6e4ecc793e",
   "metadata": {},
   "outputs": [],
   "source": [
    "Q8. Suppose you have monthly sales data for a retail store for the past three years. Which type of time \n",
    "series model would you recommend for forecasting future sales, and why?"
   ]
  },
  {
   "cell_type": "code",
   "execution_count": null,
   "id": "5c321860-de78-406a-bfd1-27d4ba64a217",
   "metadata": {},
   "outputs": [],
   "source": [
    "You can also multiply your total annual sales from last year by the rate of \n",
    "inflation to guess your sales for the next year\n",
    "Total sales last year + (total sales for the past year x rate of inflation) = annual sales forecast.\n",
    "\n",
    "The formula is \"sales forecast = total value of current deals in sales cycle x close rate.\"\n",
    "\n",
    "Time series are monthly, trimestrial, or annual, sometimes weekly, daily, or hourly (study of road traffic,\n",
    "telephone traffic), or biennial or decennial.\n",
    "\n",
    "What are time-series forecasting models? ...\n",
    "Autoregressive (AR) model.\n",
    "Moving average (MA) model.\n",
    "Autoregressive moving average (ARMA) model.\n",
    "Autoregressive integrated moving average (ARIMA) model.\n",
    "Seasonal autoregressive integrated moving average (SARIMA) model.\n",
    "Vector autoregressive (VAR) model."
   ]
  },
  {
   "cell_type": "code",
   "execution_count": null,
   "id": "eadfbf2a-e829-4c06-947b-0aff4cf118cb",
   "metadata": {},
   "outputs": [],
   "source": []
  },
  {
   "cell_type": "code",
   "execution_count": null,
   "id": "626fd0c6-f301-41fa-9c5d-78be54b40e2d",
   "metadata": {},
   "outputs": [],
   "source": [
    "Q9. What are some of the limitations of time series analysis? Provide an example of a scenario where the \n",
    "limitations of time series analysis may be particularly relevant."
   ]
  },
  {
   "cell_type": "code",
   "execution_count": null,
   "id": "13fc656b-cba4-457f-9b78-b224ee2da383",
   "metadata": {},
   "outputs": [],
   "source": [
    "It can suffer from generalization from a single study where more data points and models were warranted.\n",
    "Human error could misidentify the correct data model, which can have a snowballing effect on the output. \n",
    "It could also be difficult to obtain the appropriate data points.\n",
    "\n",
    "The central point that differentiates time-series problems from most other statistical\n",
    "problems is that in a time series, observations are not mutually independent.\n",
    "Rather a single chance event may affect all later data points. \n",
    "This makes time-series analysis quite different from most other areas of statistics.\n",
    "\n",
    "For example, the weather today is usually more similar to the weather tomorrow than the weather a month from now. \n",
    "So, predicting the weather based on past weather observations is a time series problem."
   ]
  },
  {
   "cell_type": "code",
   "execution_count": null,
   "id": "e2f3f210-ee50-498d-87c1-6e071b4d9b7f",
   "metadata": {},
   "outputs": [],
   "source": []
  },
  {
   "cell_type": "code",
   "execution_count": null,
   "id": "5ecbc3a5-4268-4ef9-8773-26d4153d01b6",
   "metadata": {},
   "outputs": [],
   "source": [
    "Q10. Explain the difference between a stationary and non-stationary time series. How does the stationarity \n",
    "of a time series affect the choice of forecasting model?"
   ]
  },
  {
   "cell_type": "code",
   "execution_count": null,
   "id": "013d40dc-c8d4-4501-b03b-89994f0a1c49",
   "metadata": {},
   "outputs": [],
   "source": [
    "When a time series is stationary, it means that certain attributes of the data do not change over time.\n",
    "However, some time series are non-stationary, whereby values and\n",
    "associations between and among variables do vary with time. \n",
    "In finance, many processes are non-stationary, and so must be handled appropriate.\n",
    "\n",
    "In the most intuitive sense, stationarity means that the statistical properties of \n",
    "a process generating a time series do not change over time .\n",
    "It does not mean that the series does not change over time, \n",
    "just that the way it changes does not itself change over time\n",
    "\n",
    "Non-time series data is any data that is independent of any form of timestamp or timeline like Geographical data.\n",
    "Whereas, in Time Series data, the dependent component is the time factor, i.e., \n",
    "the independent variable is time and there is at least one dependent variable that depends on that time variable."
   ]
  },
  {
   "cell_type": "code",
   "execution_count": null,
   "id": "eca92429-bebc-4b53-a77a-df7faacc73ca",
   "metadata": {},
   "outputs": [],
   "source": [
    "..............................The End............................."
   ]
  }
 ],
 "metadata": {
  "kernelspec": {
   "display_name": "Python 3 (ipykernel)",
   "language": "python",
   "name": "python3"
  },
  "language_info": {
   "codemirror_mode": {
    "name": "ipython",
    "version": 3
   },
   "file_extension": ".py",
   "mimetype": "text/x-python",
   "name": "python",
   "nbconvert_exporter": "python",
   "pygments_lexer": "ipython3",
   "version": "3.10.6"
  }
 },
 "nbformat": 4,
 "nbformat_minor": 5
}
